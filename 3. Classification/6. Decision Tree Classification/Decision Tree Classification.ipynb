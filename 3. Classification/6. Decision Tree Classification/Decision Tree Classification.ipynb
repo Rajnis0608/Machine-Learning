{
 "cells": [
  {
   "cell_type": "markdown",
   "metadata": {
    "colab_type": "text",
    "id": "LWd1UlMnhT2s"
   },
   "source": [
    "# Importing the libraries"
   ]
  },
  {
   "cell_type": "code",
   "execution_count": 1,
   "metadata": {
    "colab": {},
    "colab_type": "code",
    "id": "YvGPUQaHhXfL"
   },
   "outputs": [],
   "source": [
    "import numpy as np\n",
    "import matplotlib.pyplot as plt\n",
    "import pandas as pd"
   ]
  },
  {
   "cell_type": "markdown",
   "metadata": {
    "colab_type": "text",
    "id": "K1VMqkGvhc3-"
   },
   "source": [
    "# Importing the dataset"
   ]
  },
  {
   "cell_type": "code",
   "execution_count": 2,
   "metadata": {
    "colab": {},
    "colab_type": "code",
    "id": "M52QDmyzhh9s"
   },
   "outputs": [],
   "source": [
    "dataset = pd.read_csv('Social_Network_Ads.csv')\n",
    "X = dataset.iloc[:, :-1].values\n",
    "y = dataset.iloc[:, -1].values"
   ]
  },
  {
   "cell_type": "markdown",
   "metadata": {
    "colab_type": "text",
    "id": "YvxIPVyMhmKp"
   },
   "source": [
    "# Splitting the dataset into the training set and test set"
   ]
  },
  {
   "cell_type": "code",
   "execution_count": 3,
   "metadata": {
    "colab": {},
    "colab_type": "code",
    "id": "AVzJWAXIhxoC"
   },
   "outputs": [],
   "source": [
    "from sklearn.model_selection import train_test_split\n",
    "X_train, X_test, y_train, y_test = train_test_split(X, y, test_size = 0.25, random_state = 0)"
   ]
  },
  {
   "cell_type": "markdown",
   "metadata": {
    "colab_type": "text",
    "id": "kW3c7UYih0hT"
   },
   "source": [
    "# Feature Scaling"
   ]
  },
  {
   "cell_type": "code",
   "execution_count": 4,
   "metadata": {
    "colab": {},
    "colab_type": "code",
    "id": "9fQlDPKCh8sc"
   },
   "outputs": [],
   "source": [
    "from sklearn.preprocessing import StandardScaler\n",
    "sc = StandardScaler()\n",
    "X_train = sc.fit_transform(X_train)\n",
    "X_test = sc.transform(X_test)"
   ]
  },
  {
   "cell_type": "markdown",
   "metadata": {
    "colab_type": "text",
    "id": "bb6jCOCQiAmP"
   },
   "source": [
    "# Training the Decision tree classification model on the training set"
   ]
  },
  {
   "cell_type": "code",
   "execution_count": 5,
   "metadata": {
    "colab": {
     "base_uri": "https://localhost:8080/",
     "height": 120
    },
    "colab_type": "code",
    "executionInfo": {
     "elapsed": 2037,
     "status": "ok",
     "timestamp": 1588269312370,
     "user": {
      "displayName": "Hadelin de Ponteves",
      "photoUrl": "https://lh3.googleusercontent.com/a-/AOh14GhEuXdT7eQweUmRPW8_laJuPggSK6hfvpl5a6WBaA=s64",
      "userId": "15047218817161520419"
     },
     "user_tz": -240
    },
    "id": "e0pFVAmciHQs",
    "outputId": "1a9b0904-ea86-40d9-bca2-a28fdf00d56d"
   },
   "outputs": [
    {
     "data": {
      "text/plain": [
       "DecisionTreeClassifier(criterion='entropy', random_state=0)"
      ]
     },
     "execution_count": 5,
     "metadata": {},
     "output_type": "execute_result"
    }
   ],
   "source": [
    "from sklearn.tree import DecisionTreeClassifier\n",
    "classifier = DecisionTreeClassifier(criterion = 'entropy', random_state = 0)\n",
    "classifier.fit(X_train, y_train)"
   ]
  },
  {
   "cell_type": "markdown",
   "metadata": {
    "colab_type": "text",
    "id": "yyxW5b395mR2"
   },
   "source": [
    "# Predicting a new result"
   ]
  },
  {
   "cell_type": "code",
   "execution_count": 6,
   "metadata": {
    "colab": {
     "base_uri": "https://localhost:8080/",
     "height": 34
    },
    "colab_type": "code",
    "executionInfo": {
     "elapsed": 2034,
     "status": "ok",
     "timestamp": 1588269312371,
     "user": {
      "displayName": "Hadelin de Ponteves",
      "photoUrl": "https://lh3.googleusercontent.com/a-/AOh14GhEuXdT7eQweUmRPW8_laJuPggSK6hfvpl5a6WBaA=s64",
      "userId": "15047218817161520419"
     },
     "user_tz": -240
    },
    "id": "f8YOXsQy58rP",
    "outputId": "cd4b80f5-59ad-40b1-d5f3-8fc98b87bd66"
   },
   "outputs": [
    {
     "name": "stdout",
     "output_type": "stream",
     "text": [
      "[0]\n"
     ]
    }
   ],
   "source": [
    "print(classifier.predict(sc.transform([[30,87000]])))"
   ]
  },
  {
   "cell_type": "markdown",
   "metadata": {
    "colab_type": "text",
    "id": "vKYVQH-l5NpE"
   },
   "source": [
    "# Predicting the test set results"
   ]
  },
  {
   "cell_type": "code",
   "execution_count": 7,
   "metadata": {
    "colab": {
     "base_uri": "https://localhost:8080/",
     "height": 1000
    },
    "colab_type": "code",
    "executionInfo": {
     "elapsed": 2029,
     "status": "ok",
     "timestamp": 1588269312371,
     "user": {
      "displayName": "Hadelin de Ponteves",
      "photoUrl": "https://lh3.googleusercontent.com/a-/AOh14GhEuXdT7eQweUmRPW8_laJuPggSK6hfvpl5a6WBaA=s64",
      "userId": "15047218817161520419"
     },
     "user_tz": -240
    },
    "id": "p6VMTb2O4hwM",
    "outputId": "05404102-6c3b-4c34-a180-e2a1d5a85e57"
   },
   "outputs": [
    {
     "name": "stdout",
     "output_type": "stream",
     "text": [
      "[[0 0]\n",
      " [0 0]\n",
      " [0 0]\n",
      " [0 0]\n",
      " [0 0]\n",
      " [0 0]\n",
      " [0 0]\n",
      " [1 1]\n",
      " [0 0]\n",
      " [0 0]\n",
      " [0 0]\n",
      " [0 0]\n",
      " [0 0]\n",
      " [1 0]\n",
      " [0 0]\n",
      " [1 0]\n",
      " [1 0]\n",
      " [0 0]\n",
      " [1 1]\n",
      " [0 0]\n",
      " [0 0]\n",
      " [1 1]\n",
      " [0 0]\n",
      " [1 1]\n",
      " [0 0]\n",
      " [0 1]\n",
      " [0 0]\n",
      " [0 0]\n",
      " [0 0]\n",
      " [0 0]\n",
      " [0 0]\n",
      " [0 1]\n",
      " [1 1]\n",
      " [0 0]\n",
      " [0 0]\n",
      " [0 0]\n",
      " [0 0]\n",
      " [0 0]\n",
      " [0 0]\n",
      " [1 1]\n",
      " [0 0]\n",
      " [0 0]\n",
      " [0 0]\n",
      " [0 0]\n",
      " [1 1]\n",
      " [0 0]\n",
      " [0 0]\n",
      " [1 1]\n",
      " [0 0]\n",
      " [1 1]\n",
      " [1 1]\n",
      " [0 0]\n",
      " [0 0]\n",
      " [1 0]\n",
      " [1 1]\n",
      " [1 1]\n",
      " [0 0]\n",
      " [0 0]\n",
      " [1 1]\n",
      " [0 0]\n",
      " [0 0]\n",
      " [1 1]\n",
      " [0 0]\n",
      " [1 1]\n",
      " [0 0]\n",
      " [1 1]\n",
      " [0 0]\n",
      " [0 0]\n",
      " [0 0]\n",
      " [1 0]\n",
      " [1 1]\n",
      " [0 0]\n",
      " [0 0]\n",
      " [1 1]\n",
      " [0 0]\n",
      " [0 0]\n",
      " [0 0]\n",
      " [0 0]\n",
      " [1 1]\n",
      " [1 1]\n",
      " [1 1]\n",
      " [1 0]\n",
      " [0 0]\n",
      " [0 0]\n",
      " [1 1]\n",
      " [0 1]\n",
      " [0 0]\n",
      " [1 1]\n",
      " [1 1]\n",
      " [0 0]\n",
      " [0 0]\n",
      " [1 1]\n",
      " [0 0]\n",
      " [0 0]\n",
      " [0 0]\n",
      " [1 1]\n",
      " [0 0]\n",
      " [1 1]\n",
      " [1 1]\n",
      " [1 1]]\n"
     ]
    }
   ],
   "source": [
    "y_pred = classifier.predict(X_test)\n",
    "print(np.concatenate((y_pred.reshape(len(y_pred),1), y_test.reshape(len(y_test),1)),1))"
   ]
  },
  {
   "cell_type": "markdown",
   "metadata": {
    "colab_type": "text",
    "id": "h4Hwj34ziWQW"
   },
   "source": [
    "# Making the confusion matrix"
   ]
  },
  {
   "cell_type": "code",
   "execution_count": 8,
   "metadata": {
    "colab": {
     "base_uri": "https://localhost:8080/",
     "height": 68
    },
    "colab_type": "code",
    "executionInfo": {
     "elapsed": 2026,
     "status": "ok",
     "timestamp": 1588269312371,
     "user": {
      "displayName": "Hadelin de Ponteves",
      "photoUrl": "https://lh3.googleusercontent.com/a-/AOh14GhEuXdT7eQweUmRPW8_laJuPggSK6hfvpl5a6WBaA=s64",
      "userId": "15047218817161520419"
     },
     "user_tz": -240
    },
    "id": "D6bpZwUiiXic",
    "outputId": "031d8132-ae7a-4a4c-b2dd-26b88da40ed6"
   },
   "outputs": [
    {
     "name": "stdout",
     "output_type": "stream",
     "text": [
      "[[62  6]\n",
      " [ 3 29]]\n"
     ]
    },
    {
     "data": {
      "text/plain": [
       "0.91"
      ]
     },
     "execution_count": 8,
     "metadata": {},
     "output_type": "execute_result"
    }
   ],
   "source": [
    "from sklearn.metrics import confusion_matrix, accuracy_score\n",
    "cm = confusion_matrix(y_test, y_pred)\n",
    "print(cm)\n",
    "accuracy_score(y_test, y_pred)"
   ]
  },
  {
   "cell_type": "markdown",
   "metadata": {
    "colab_type": "text",
    "id": "6OMC_P0diaoD"
   },
   "source": [
    "# Visualising the training set results"
   ]
  },
  {
   "cell_type": "code",
   "execution_count": 9,
   "metadata": {
    "colab": {
     "base_uri": "https://localhost:8080/",
     "height": 349
    },
    "colab_type": "code",
    "executionInfo": {
     "elapsed": 30339,
     "status": "ok",
     "timestamp": 1588269340691,
     "user": {
      "displayName": "Hadelin de Ponteves",
      "photoUrl": "https://lh3.googleusercontent.com/a-/AOh14GhEuXdT7eQweUmRPW8_laJuPggSK6hfvpl5a6WBaA=s64",
      "userId": "15047218817161520419"
     },
     "user_tz": -240
    },
    "id": "_NOjKvZRid5l",
    "outputId": "cd4f51f4-8260-40bf-aa20-e238d60ccc1e"
   },
   "outputs": [
    {
     "name": "stderr",
     "output_type": "stream",
     "text": [
      "*c* argument looks like a single numeric RGB or RGBA sequence, which should be avoided as value-mapping will have precedence in case its length matches with *x* & *y*.  Please use the *color* keyword-argument or provide a 2D array with a single row if you intend to specify the same RGB or RGBA value for all points.\n",
      "*c* argument looks like a single numeric RGB or RGBA sequence, which should be avoided as value-mapping will have precedence in case its length matches with *x* & *y*.  Please use the *color* keyword-argument or provide a 2D array with a single row if you intend to specify the same RGB or RGBA value for all points.\n"
     ]
    },
    {
     "data": {
      "image/png": "[encoded data removed]",
      "text/plain": [
       "<Figure size 432x288 with 1 Axes>"
      ]
     },
     "metadata": {
      "needs_background": "light"
     },
     "output_type": "display_data"
    }
   ],
   "source": [
    "from matplotlib.colors import ListedColormap\n",
    "X_set, y_set = sc.inverse_transform(X_train), y_train\n",
    "X1, X2 = np.meshgrid(np.arange(start = X_set[:, 0].min() - 10, stop = X_set[:, 0].max() + 10, step = 0.25),\n",
    "                     np.arange(start = X_set[:, 1].min() - 1000, stop = X_set[:, 1].max() + 1000, step = 0.25))\n",
    "plt.contourf(X1, X2, classifier.predict(sc.transform(np.array([X1.ravel(), X2.ravel()]).T)).reshape(X1.shape),\n",
    "             alpha = 0.75, cmap = ListedColormap(('red', 'green')))\n",
    "plt.xlim(X1.min(), X1.max())\n",
    "plt.ylim(X2.min(), X2.max())\n",
    "for i, j in enumerate(np.unique(y_set)):\n",
    "    plt.scatter(X_set[y_set == j, 0], X_set[y_set == j, 1], c = ListedColormap(('red', 'green'))(i), label = j)\n",
    "plt.title('Decision Tree Classification (Training set)')\n",
    "plt.xlabel('Age')\n",
    "plt.ylabel('Estimated Salary')\n",
    "plt.legend()\n",
    "plt.show()"
   ]
  },
  {
   "cell_type": "markdown",
   "metadata": {
    "colab_type": "text",
    "id": "SZ-j28aPihZx"
   },
   "source": [
    "# Visualising the test set results"
   ]
  },
  {
   "cell_type": "code",
   "execution_count": 10,
   "metadata": {
    "colab": {
     "base_uri": "https://localhost:8080/",
     "height": 349
    },
    "colab_type": "code",
    "executionInfo": {
     "elapsed": 55016,
     "status": "ok",
     "timestamp": 1588269365372,
     "user": {
      "displayName": "Hadelin de Ponteves",
      "photoUrl": "https://lh3.googleusercontent.com/a-/AOh14GhEuXdT7eQweUmRPW8_laJuPggSK6hfvpl5a6WBaA=s64",
      "userId": "15047218817161520419"
     },
     "user_tz": -240
    },
    "id": "qeTjz2vDilAC",
    "outputId": "c9624a3f-544e-4033-8cb8-bb4b7b08ff4a"
   },
   "outputs": [
    {
     "name": "stderr",
     "output_type": "stream",
     "text": [
      "*c* argument looks like a single numeric RGB or RGBA sequence, which should be avoided as value-mapping will have precedence in case its length matches with *x* & *y*.  Please use the *color* keyword-argument or provide a 2D array with a single row if you intend to specify the same RGB or RGBA value for all points.\n",
      "*c* argument looks like a single numeric RGB or RGBA sequence, which should be avoided as value-mapping will have precedence in case its length matches with *x* & *y*.  Please use the *color* keyword-argument or provide a 2D array with a single row if you intend to specify the same RGB or RGBA value for all points.\n"
     ]
    },
    {
     "data": {
      "image/png": "[encoded data removed]",
      "text/plain": [
       "<Figure size 432x288 with 1 Axes>"
      ]
     },
     "metadata": {
      "needs_background": "light"
     },
     "output_type": "display_data"
    }
   ],
   "source": [
    "from matplotlib.colors import ListedColormap\n",
    "X_set, y_set = sc.inverse_transform(X_test), y_test\n",
    "X1, X2 = np.meshgrid(np.arange(start = X_set[:, 0].min() - 10, stop = X_set[:, 0].max() + 10, step = 0.25),\n",
    "                     np.arange(start = X_set[:, 1].min() - 1000, stop = X_set[:, 1].max() + 1000, step = 0.25))\n",
    "plt.contourf(X1, X2, classifier.predict(sc.transform(np.array([X1.ravel(), X2.ravel()]).T)).reshape(X1.shape),\n",
    "             alpha = 0.75, cmap = ListedColormap(('red', 'green')))\n",
    "plt.xlim(X1.min(), X1.max())\n",
    "plt.ylim(X2.min(), X2.max())\n",
    "for i, j in enumerate(np.unique(y_set)):\n",
    "    plt.scatter(X_set[y_set == j, 0], X_set[y_set == j, 1], c = ListedColormap(('red', 'green'))(i), label = j)\n",
    "plt.title('Decision Tree Classification (Test set)')\n",
    "plt.xlabel('Age')\n",
    "plt.ylabel('Estimated Salary')\n",
    "plt.legend()\n",
    "plt.show()"
   ]
  },
  {
   "cell_type": "code",
   "execution_count": 11,
   "metadata": {},
   "outputs": [
    {
     "data": {
      "text/plain": [
       "[Text(0.4967948717948718, 0.9615384615384616, 'X[0] <= 0.631\\nentropy = 0.951\\nsamples = 300\\nvalue = [189, 111]'),\n",
       " Text(0.26282051282051283, 0.8846153846153846, 'X[1] <= 0.606\\nentropy = 0.693\\nsamples = 215\\nvalue = [175, 40]'),\n",
       " Text(0.11538461538461539, 0.8076923076923077, 'X[0] <= -0.161\\nentropy = 0.241\\nsamples = 176\\nvalue = [169, 7]'),\n",
       " Text(0.08974358974358974, 0.7307692307692307, 'entropy = 0.0\\nsamples = 114\\nvalue = [114, 0]'),\n",
       " Text(0.14102564102564102, 0.7307692307692307, 'X[1] <= -0.06\\nentropy = 0.509\\nsamples = 62\\nvalue = [55, 7]'),\n",
       " Text(0.11538461538461539, 0.6538461538461539, 'entropy = 0.0\\nsamples = 31\\nvalue = [31, 0]'),\n",
       " Text(0.16666666666666666, 0.6538461538461539, 'X[1] <= 0.403\\nentropy = 0.771\\nsamples = 31\\nvalue = [24, 7]'),\n",
       " Text(0.14102564102564102, 0.5769230769230769, 'X[1] <= 0.027\\nentropy = 0.663\\nsamples = 29\\nvalue = [24, 5]'),\n",
       " Text(0.11538461538461539, 0.5, 'entropy = 0.0\\nsamples = 1\\nvalue = [0, 1]'),\n",
       " Text(0.16666666666666666, 0.5, 'X[1] <= 0.259\\nentropy = 0.592\\nsamples = 28\\nvalue = [24, 4]'),\n",
       " Text(0.14102564102564102, 0.4230769230769231, 'X[1] <= 0.085\\nentropy = 0.684\\nsamples = 22\\nvalue = [18, 4]'),\n",
       " Text(0.05128205128205128, 0.34615384615384615, 'X[0] <= 0.136\\nentropy = 0.391\\nsamples = 13\\nvalue = [12, 1]'),\n",
       " Text(0.02564102564102564, 0.2692307692307692, 'entropy = 0.0\\nsamples = 6\\nvalue = [6, 0]'),\n",
       " Text(0.07692307692307693, 0.2692307692307692, 'X[1] <= 0.056\\nentropy = 0.592\\nsamples = 7\\nvalue = [6, 1]'),\n",
       " Text(0.05128205128205128, 0.19230769230769232, 'X[0] <= 0.235\\nentropy = 1.0\\nsamples = 2\\nvalue = [1, 1]'),\n",
       " Text(0.02564102564102564, 0.11538461538461539, 'entropy = 0.0\\nsamples = 1\\nvalue = [0, 1]'),\n",
       " Text(0.07692307692307693, 0.11538461538461539, 'entropy = 0.0\\nsamples = 1\\nvalue = [1, 0]'),\n",
       " Text(0.10256410256410256, 0.19230769230769232, 'entropy = 0.0\\nsamples = 5\\nvalue = [5, 0]'),\n",
       " Text(0.23076923076923078, 0.34615384615384615, 'X[1] <= 0.114\\nentropy = 0.918\\nsamples = 9\\nvalue = [6, 3]'),\n",
       " Text(0.1794871794871795, 0.2692307692307692, 'X[0] <= 0.235\\nentropy = 1.0\\nsamples = 2\\nvalue = [1, 1]'),\n",
       " Text(0.15384615384615385, 0.19230769230769232, 'entropy = 0.0\\nsamples = 1\\nvalue = [1, 0]'),\n",
       " Text(0.20512820512820512, 0.19230769230769232, 'entropy = 0.0\\nsamples = 1\\nvalue = [0, 1]'),\n",
       " Text(0.28205128205128205, 0.2692307692307692, 'X[0] <= 0.136\\nentropy = 0.863\\nsamples = 7\\nvalue = [5, 2]'),\n",
       " Text(0.2564102564102564, 0.19230769230769232, 'X[0] <= -0.013\\nentropy = 1.0\\nsamples = 4\\nvalue = [2, 2]'),\n",
       " Text(0.23076923076923078, 0.11538461538461539, 'X[1] <= 0.201\\nentropy = 0.918\\nsamples = 3\\nvalue = [2, 1]'),\n",
       " Text(0.20512820512820512, 0.038461538461538464, 'entropy = 0.0\\nsamples = 2\\nvalue = [2, 0]'),\n",
       " Text(0.2564102564102564, 0.038461538461538464, 'entropy = 0.0\\nsamples = 1\\nvalue = [0, 1]'),\n",
       " Text(0.28205128205128205, 0.11538461538461539, 'entropy = 0.0\\nsamples = 1\\nvalue = [0, 1]'),\n",
       " Text(0.3076923076923077, 0.19230769230769232, 'entropy = 0.0\\nsamples = 3\\nvalue = [3, 0]'),\n",
       " Text(0.19230769230769232, 0.4230769230769231, 'entropy = 0.0\\nsamples = 6\\nvalue = [6, 0]'),\n",
       " Text(0.19230769230769232, 0.5769230769230769, 'entropy = 0.0\\nsamples = 2\\nvalue = [0, 2]'),\n",
       " Text(0.41025641025641024, 0.8076923076923077, 'X[1] <= 1.853\\nentropy = 0.619\\nsamples = 39\\nvalue = [6, 33]'),\n",
       " Text(0.38461538461538464, 0.7307692307692307, 'X[1] <= 1.099\\nentropy = 0.779\\nsamples = 26\\nvalue = [6, 20]'),\n",
       " Text(0.358974358974359, 0.6538461538461539, 'entropy = 0.0\\nsamples = 8\\nvalue = [0, 8]'),\n",
       " Text(0.41025641025641024, 0.6538461538461539, 'X[1] <= 1.36\\nentropy = 0.918\\nsamples = 18\\nvalue = [6, 12]'),\n",
       " Text(0.3333333333333333, 0.5769230769230769, 'X[0] <= -0.458\\nentropy = 0.985\\nsamples = 7\\nvalue = [4, 3]'),\n",
       " Text(0.3076923076923077, 0.5, 'entropy = 0.0\\nsamples = 2\\nvalue = [2, 0]'),\n",
       " Text(0.358974358974359, 0.5, 'X[1] <= 1.244\\nentropy = 0.971\\nsamples = 5\\nvalue = [2, 3]'),\n",
       " Text(0.3333333333333333, 0.4230769230769231, 'X[0] <= -0.359\\nentropy = 1.0\\nsamples = 4\\nvalue = [2, 2]'),\n",
       " Text(0.3076923076923077, 0.34615384615384615, 'entropy = 0.0\\nsamples = 1\\nvalue = [0, 1]'),\n",
       " Text(0.358974358974359, 0.34615384615384615, 'X[0] <= 0.186\\nentropy = 0.918\\nsamples = 3\\nvalue = [2, 1]'),\n",
       " Text(0.3333333333333333, 0.2692307692307692, 'entropy = 0.0\\nsamples = 2\\nvalue = [2, 0]'),\n",
       " Text(0.38461538461538464, 0.2692307692307692, 'entropy = 0.0\\nsamples = 1\\nvalue = [0, 1]'),\n",
       " Text(0.38461538461538464, 0.4230769230769231, 'entropy = 0.0\\nsamples = 1\\nvalue = [0, 1]'),\n",
       " Text(0.48717948717948717, 0.5769230769230769, 'X[1] <= 1.781\\nentropy = 0.684\\nsamples = 11\\nvalue = [2, 9]'),\n",
       " Text(0.46153846153846156, 0.5, 'X[0] <= -1.102\\nentropy = 0.469\\nsamples = 10\\nvalue = [1, 9]'),\n",
       " Text(0.4358974358974359, 0.4230769230769231, 'entropy = 0.0\\nsamples = 1\\nvalue = [1, 0]'),\n",
       " Text(0.48717948717948717, 0.4230769230769231, 'entropy = 0.0\\nsamples = 9\\nvalue = [0, 9]'),\n",
       " Text(0.5128205128205128, 0.5, 'entropy = 0.0\\nsamples = 1\\nvalue = [1, 0]'),\n",
       " Text(0.4358974358974359, 0.7307692307692307, 'entropy = 0.0\\nsamples = 13\\nvalue = [0, 13]'),\n",
       " Text(0.7307692307692307, 0.8846153846153846, 'X[1] <= -0.814\\nentropy = 0.645\\nsamples = 85\\nvalue = [14, 71]'),\n",
       " Text(0.6153846153846154, 0.8076923076923077, 'X[1] <= -1.365\\nentropy = 0.211\\nsamples = 30\\nvalue = [1, 29]'),\n",
       " Text(0.5897435897435898, 0.7307692307692307, 'X[0] <= 0.829\\nentropy = 0.722\\nsamples = 5\\nvalue = [1, 4]'),\n",
       " Text(0.5641025641025641, 0.6538461538461539, 'X[0] <= 0.73\\nentropy = 1.0\\nsamples = 2\\nvalue = [1, 1]'),\n",
       " Text(0.5384615384615384, 0.5769230769230769, 'entropy = 0.0\\nsamples = 1\\nvalue = [0, 1]'),\n",
       " Text(0.5897435897435898, 0.5769230769230769, 'entropy = 0.0\\nsamples = 1\\nvalue = [1, 0]'),\n",
       " Text(0.6153846153846154, 0.6538461538461539, 'entropy = 0.0\\nsamples = 3\\nvalue = [0, 3]'),\n",
       " Text(0.6410256410256411, 0.7307692307692307, 'entropy = 0.0\\nsamples = 25\\nvalue = [0, 25]'),\n",
       " Text(0.8461538461538461, 0.8076923076923077, 'X[0] <= 1.423\\nentropy = 0.789\\nsamples = 55\\nvalue = [13, 42]'),\n",
       " Text(0.7435897435897436, 0.7307692307692307, 'X[1] <= 0.447\\nentropy = 0.946\\nsamples = 33\\nvalue = [12, 21]'),\n",
       " Text(0.6666666666666666, 0.6538461538461539, 'X[0] <= 1.027\\nentropy = 0.985\\nsamples = 14\\nvalue = [8, 6]'),\n",
       " Text(0.6410256410256411, 0.5769230769230769, 'X[0] <= 0.829\\nentropy = 0.994\\nsamples = 11\\nvalue = [5, 6]'),\n",
       " Text(0.5897435897435898, 0.5, 'X[1] <= -0.51\\nentropy = 0.918\\nsamples = 6\\nvalue = [4, 2]'),\n",
       " Text(0.5641025641025641, 0.4230769230769231, 'entropy = 0.0\\nsamples = 1\\nvalue = [0, 1]'),\n",
       " Text(0.6153846153846154, 0.4230769230769231, 'X[1] <= 0.201\\nentropy = 0.722\\nsamples = 5\\nvalue = [4, 1]'),\n",
       " Text(0.5897435897435898, 0.34615384615384615, 'entropy = 0.0\\nsamples = 2\\nvalue = [2, 0]'),\n",
       " Text(0.6410256410256411, 0.34615384615384615, 'X[0] <= 0.73\\nentropy = 0.918\\nsamples = 3\\nvalue = [2, 1]'),\n",
       " Text(0.6153846153846154, 0.2692307692307692, 'entropy = 0.0\\nsamples = 1\\nvalue = [1, 0]'),\n",
       " Text(0.6666666666666666, 0.2692307692307692, 'X[1] <= 0.317\\nentropy = 1.0\\nsamples = 2\\nvalue = [1, 1]'),\n",
       " Text(0.6410256410256411, 0.19230769230769232, 'entropy = 0.0\\nsamples = 1\\nvalue = [0, 1]'),\n",
       " Text(0.6923076923076923, 0.19230769230769232, 'entropy = 0.0\\nsamples = 1\\nvalue = [1, 0]'),\n",
       " Text(0.6923076923076923, 0.5, 'X[1] <= -0.626\\nentropy = 0.722\\nsamples = 5\\nvalue = [1, 4]'),\n",
       " Text(0.6666666666666666, 0.4230769230769231, 'entropy = 0.0\\nsamples = 1\\nvalue = [1, 0]'),\n",
       " Text(0.717948717948718, 0.4230769230769231, 'entropy = 0.0\\nsamples = 4\\nvalue = [0, 4]'),\n",
       " Text(0.6923076923076923, 0.5769230769230769, 'entropy = 0.0\\nsamples = 3\\nvalue = [3, 0]'),\n",
       " Text(0.8205128205128205, 0.6538461538461539, 'X[1] <= 0.664\\nentropy = 0.742\\nsamples = 19\\nvalue = [4, 15]'),\n",
       " Text(0.7948717948717948, 0.5769230769230769, 'entropy = 0.0\\nsamples = 4\\nvalue = [0, 4]'),\n",
       " Text(0.8461538461538461, 0.5769230769230769, 'X[1] <= 1.331\\nentropy = 0.837\\nsamples = 15\\nvalue = [4, 11]'),\n",
       " Text(0.7948717948717948, 0.5, 'X[0] <= 0.829\\nentropy = 1.0\\nsamples = 4\\nvalue = [2, 2]'),\n",
       " Text(0.7692307692307693, 0.4230769230769231, 'entropy = 0.0\\nsamples = 1\\nvalue = [1, 0]'),\n",
       " Text(0.8205128205128205, 0.4230769230769231, 'X[0] <= 1.176\\nentropy = 0.918\\nsamples = 3\\nvalue = [1, 2]'),\n",
       " Text(0.7948717948717948, 0.34615384615384615, 'entropy = 0.0\\nsamples = 2\\nvalue = [0, 2]'),\n",
       " Text(0.8461538461538461, 0.34615384615384615, 'entropy = 0.0\\nsamples = 1\\nvalue = [1, 0]'),\n",
       " Text(0.8974358974358975, 0.5, 'X[1] <= 1.824\\nentropy = 0.684\\nsamples = 11\\nvalue = [2, 9]'),\n",
       " Text(0.8717948717948718, 0.4230769230769231, 'entropy = 0.0\\nsamples = 4\\nvalue = [0, 4]'),\n",
       " Text(0.9230769230769231, 0.4230769230769231, 'X[1] <= 2.143\\nentropy = 0.863\\nsamples = 7\\nvalue = [2, 5]'),\n",
       " Text(0.8974358974358975, 0.34615384615384615, 'X[1] <= 2.027\\nentropy = 0.971\\nsamples = 5\\nvalue = [2, 3]'),\n",
       " Text(0.8717948717948718, 0.2692307692307692, 'X[1] <= 1.926\\nentropy = 0.811\\nsamples = 4\\nvalue = [1, 3]'),\n",
       " Text(0.8461538461538461, 0.19230769230769232, 'X[0] <= 1.126\\nentropy = 1.0\\nsamples = 2\\nvalue = [1, 1]'),\n",
       " Text(0.8205128205128205, 0.11538461538461539, 'entropy = 0.0\\nsamples = 1\\nvalue = [0, 1]'),\n",
       " Text(0.8717948717948718, 0.11538461538461539, 'entropy = 0.0\\nsamples = 1\\nvalue = [1, 0]'),\n",
       " Text(0.8974358974358975, 0.19230769230769232, 'entropy = 0.0\\nsamples = 2\\nvalue = [0, 2]'),\n",
       " Text(0.9230769230769231, 0.2692307692307692, 'entropy = 0.0\\nsamples = 1\\nvalue = [1, 0]'),\n",
       " Text(0.9487179487179487, 0.34615384615384615, 'entropy = 0.0\\nsamples = 2\\nvalue = [0, 2]'),\n",
       " Text(0.9487179487179487, 0.7307692307692307, 'X[1] <= -0.742\\nentropy = 0.267\\nsamples = 22\\nvalue = [1, 21]'),\n",
       " Text(0.9230769230769231, 0.6538461538461539, 'X[0] <= 2.117\\nentropy = 1.0\\nsamples = 2\\nvalue = [1, 1]'),\n",
       " Text(0.8974358974358975, 0.5769230769230769, 'entropy = 0.0\\nsamples = 1\\nvalue = [1, 0]'),\n",
       " Text(0.9487179487179487, 0.5769230769230769, 'entropy = 0.0\\nsamples = 1\\nvalue = [0, 1]'),\n",
       " Text(0.9743589743589743, 0.6538461538461539, 'entropy = 0.0\\nsamples = 20\\nvalue = [0, 20]')]"
      ]
     },
     "execution_count": 11,
     "metadata": {},
     "output_type": "execute_result"
    },
    {
     "data": {
      "image/png": "[encoded data removed]",
      "text/plain": [
       "<Figure size 432x288 with 1 Axes>"
      ]
     },
     "metadata": {
      "needs_background": "light"
     },
     "output_type": "display_data"
    }
   ],
   "source": [
    "from sklearn.tree import plot_tree\n",
    "plot_tree(classifier)"
   ]
  },
  {
   "cell_type": "code",
   "execution_count": null,
   "metadata": {},
   "outputs": [],
   "source": []
  }
 ],
 "metadata": {
  "colab": {
   "authorship_tag": "ABX9TyP02NrvZmmq4qjp5mwU3Mr2",
   "collapsed_sections": [],
   "machine_shape": "hm",
   "name": "decision_tree_classification.ipynb",
   "provenance": [],
   "toc_visible": true
  },
  "kernelspec": {
   "display_name": "Python 3 (ipykernel)",
   "language": "python",
   "name": "python3"
  },
  "language_info": {
   "codemirror_mode": {
    "name": "ipython",
    "version": 3
   },
   "file_extension": ".py",
   "mimetype": "text/x-python",
   "name": "python",
   "nbconvert_exporter": "python",
   "pygments_lexer": "ipython3",
   "version": "3.9.7"
  }
 },
 "nbformat": 4,
 "nbformat_minor": 1
}
