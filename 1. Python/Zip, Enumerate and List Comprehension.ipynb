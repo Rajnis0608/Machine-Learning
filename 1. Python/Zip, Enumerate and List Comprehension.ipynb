{
 "cells": [
  {
   "cell_type": "markdown",
   "id": "49269cc7",
   "metadata": {},
   "source": [
    "# Zip Function"
   ]
  },
  {
   "cell_type": "code",
   "execution_count": 5,
   "id": "edf3f867",
   "metadata": {},
   "outputs": [
    {
     "name": "stdout",
     "output_type": "stream",
     "text": [
      "{'Micheal Ford': 80, 'John Buch': 53, 'Isra Raul': 90, 'Messi Ronaldo': 100}\n"
     ]
    }
   ],
   "source": [
    "students_names = [ \"Micheal Ford\", \"John Buch\" , \"Isra Raul\", \"Messi Ronaldo\"]\n",
    "\n",
    "students_grades = [ 80 , 53 , 90 , 100]\n",
    "\n",
    "names_grades = {}\n",
    "\n",
    "for i1,i2 in zip(students_names,students_grades):\n",
    "    names_grades[i1] = i2\n",
    "print(names_grades)"
   ]
  },
  {
   "cell_type": "code",
   "execution_count": 6,
   "id": "a4848255",
   "metadata": {},
   "outputs": [
    {
     "name": "stdout",
     "output_type": "stream",
     "text": [
      "<zip object at 0x0000018D6059A740>\n",
      "[('Micheal Ford', 80), ('John Buch', 53), ('Isra Raul', 90), ('Messi Ronaldo', 100)]\n"
     ]
    }
   ],
   "source": [
    "zipped_list = zip(students_names,students_grades) #iterator\n",
    "print(zipped_list) \n",
    "zipped_list = list(zipped_list) #iterable\n",
    "print(zipped_list)"
   ]
  },
  {
   "cell_type": "code",
   "execution_count": 7,
   "id": "755611ed",
   "metadata": {},
   "outputs": [
    {
     "name": "stdout",
     "output_type": "stream",
     "text": [
      "1 2\n"
     ]
    }
   ],
   "source": [
    "print(1,2)"
   ]
  },
  {
   "cell_type": "markdown",
   "id": "e0c7cd2f",
   "metadata": {},
   "source": [
    "# Enumerate Function"
   ]
  },
  {
   "cell_type": "code",
   "execution_count": 9,
   "id": "968b2ac5",
   "metadata": {},
   "outputs": [
    {
     "name": "stdout",
     "output_type": "stream",
     "text": [
      "['Rachael Green $10260', 'Goodfellow Ian $41571', 'Tedd Crock $71211', 'Mina Joseph $52141']\n"
     ]
    }
   ],
   "source": [
    "names = [ \"Rachael Green\", \"Goodfellow Ian\", \"Tedd Crock\", \"Mina Joseph\"]\n",
    "salaries = [10260 , 41571 , 71211 , 52141 , 35781]\n",
    "people_salaries = []\n",
    " \n",
    "for i , j in enumerate(names):\n",
    "    x = j + \" $\" + str(salaries[i])\n",
    "    people_salaries.append(x)\n",
    "\n",
    "print(people_salaries)"
   ]
  },
  {
   "cell_type": "code",
   "execution_count": 10,
   "id": "215ab752",
   "metadata": {},
   "outputs": [
    {
     "name": "stdout",
     "output_type": "stream",
     "text": [
      "<enumerate object at 0x0000018D6085A7C0>\n",
      "[(0, 'Rachael Green'), (1, 'Goodfellow Ian'), (2, 'Tedd Crock'), (3, 'Mina Joseph')]\n"
     ]
    }
   ],
   "source": [
    "enumerator = enumerate(names)\n",
    "print(enumerator)\n",
    "indexed_names = list(enumerator)\n",
    "print(indexed_names)"
   ]
  },
  {
   "cell_type": "markdown",
   "id": "48172df5",
   "metadata": {},
   "source": [
    "## List Comprehension vs. Normal List"
   ]
  },
  {
   "cell_type": "code",
   "execution_count": 11,
   "id": "627245c7",
   "metadata": {},
   "outputs": [
    {
     "name": "stdout",
     "output_type": "stream",
     "text": [
      "[0, 1, 2, 3, 4, 5, 6, 7, 8, 9, 10, 11, 12, 13, 14, 15, 16, 17, 18, 19]\n"
     ]
    }
   ],
   "source": [
    "new_list = []\n",
    "for i in range(20):\n",
    "    new_list.append(i)\n",
    "print(new_list)"
   ]
  },
  {
   "cell_type": "code",
   "execution_count": 12,
   "id": "8ba54775",
   "metadata": {},
   "outputs": [
    {
     "name": "stdout",
     "output_type": "stream",
     "text": [
      "[0, 1, 2, 3, 4, 5, 6, 7, 8, 9, 10, 11, 12, 13, 14, 15, 16, 17, 18, 19]\n"
     ]
    }
   ],
   "source": [
    "new_list_comp = [i for i in range(20)]\n",
    "print(new_list_comp)"
   ]
  },
  {
   "cell_type": "code",
   "execution_count": 13,
   "id": "b8e92586",
   "metadata": {},
   "outputs": [
    {
     "name": "stdout",
     "output_type": "stream",
     "text": [
      "[(0, 5), (1, 6), (2, 7), (3, 8), (4, 9)]\n"
     ]
    }
   ],
   "source": [
    "list_comp =  [ (index , value ) for index ,value in enumerate( range( 5, 10 ) ) ]\n",
    "print(list_comp)"
   ]
  },
  {
   "cell_type": "code",
   "execution_count": 14,
   "id": "fbfadb52",
   "metadata": {},
   "outputs": [
    {
     "name": "stdout",
     "output_type": "stream",
     "text": [
      "['Joel', 'James', 'Lily']\n"
     ]
    }
   ],
   "source": [
    "students_dict = { \n",
    "                    \"Joel Corry\" : 70,\n",
    "                    \"James Bond\" : 90,\n",
    "                    \"Fatma Ahmed\": 20,\n",
    "                    \"Lily Saqr\"  : 94,\n",
    "                    \"Ahmed Yan\"  : 40,\n",
    "                }\n",
    "passed_students_names = [name.split()[0] for name, x in students_dict.items() if x > 50]\n",
    "print(passed_students_names)"
   ]
  }
 ],
 "metadata": {
  "kernelspec": {
   "display_name": "Python 3 (ipykernel)",
   "language": "python",
   "name": "python3"
  },
  "language_info": {
   "codemirror_mode": {
    "name": "ipython",
    "version": 3
   },
   "file_extension": ".py",
   "mimetype": "text/x-python",
   "name": "python",
   "nbconvert_exporter": "python",
   "pygments_lexer": "ipython3",
   "version": "3.9.7"
  }
 },
 "nbformat": 4,
 "nbformat_minor": 5
}
