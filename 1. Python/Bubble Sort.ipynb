{
 "cells": [
  {
   "cell_type": "code",
   "execution_count": 2,
   "id": "4d225b2f",
   "metadata": {},
   "outputs": [
    {
     "name": "stdout",
     "output_type": "stream",
     "text": [
      "[1, 2, 3, 4, 5, 6]\n"
     ]
    }
   ],
   "source": [
    "l = [3,2,4,6,1,5]\n",
    "n = len(l)\n",
    "for j in range(n-1):\n",
    "    for i in range(0,n-1-j):\n",
    "        if(l[i] > l[i+1]):\n",
    "            t = l[i]\n",
    "            l[i] = l[i+1]\n",
    "            l[i+1] = t\n",
    "print(l)        \n",
    "        "
   ]
  },
  {
   "cell_type": "code",
   "execution_count": null,
   "id": "a2facdb4",
   "metadata": {},
   "outputs": [],
   "source": []
  }
 ],
 "metadata": {
  "kernelspec": {
   "display_name": "Python 3 (ipykernel)",
   "language": "python",
   "name": "python3"
  },
  "language_info": {
   "codemirror_mode": {
    "name": "ipython",
    "version": 3
   },
   "file_extension": ".py",
   "mimetype": "text/x-python",
   "name": "python",
   "nbconvert_exporter": "python",
   "pygments_lexer": "ipython3",
   "version": "3.9.7"
  }
 },
 "nbformat": 4,
 "nbformat_minor": 5
}
