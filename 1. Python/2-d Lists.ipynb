{
 "cells": [
  {
   "cell_type": "code",
   "execution_count": 8,
   "id": "93ab4d92",
   "metadata": {},
   "outputs": [
    {
     "name": "stdout",
     "output_type": "stream",
     "text": [
      "2 3 \n",
      "1 2 3 4 5 6\n",
      "[[1, 2, 3], [4, 5, 6]]\n",
      "[[1, 2, 3], [4, 5, 6]]\n"
     ]
    }
   ],
   "source": [
    "# Thaking input into 2d Array\n",
    "str = input().strip().split(\" \")\n",
    "n = int(str[0]) #rows\n",
    "m = int(str[1]) #cols\n",
    " \n",
    "l = [int(i) for i in input().strip().split(\" \")]\n",
    "out = []\n",
    "for i in range(n):\n",
    "    out.append([])\n",
    "    for j in range(m):\n",
    "        out[i].append(l[i *m + j])\n",
    "print(out)\n",
    "\n",
    "out_2 = [[l[i * m + j] for j in range(m)] for i in range(n)]\n",
    "print(out_2)"
   ]
  },
  {
   "cell_type": "code",
   "execution_count": 16,
   "id": "6f08bb5b",
   "metadata": {},
   "outputs": [
    {
     "name": "stdout",
     "output_type": "stream",
     "text": [
      "1 4 5 2 3 6 "
     ]
    }
   ],
   "source": [
    "# Wave Print\n",
    "for j in range(m):\n",
    "    if j % 2 == 0:\n",
    "        for i in range(n):\n",
    "            print(out_2[i][j] ,end = \" \")\n",
    "    else:\n",
    "        for i in range(n-1,-1,-1):\n",
    "            print(out_2[i][j] ,end = \" \")"
   ]
  }
 ],
 "metadata": {
  "kernelspec": {
   "display_name": "Python 3 (ipykernel)",
   "language": "python",
   "name": "python3"
  },
  "language_info": {
   "codemirror_mode": {
    "name": "ipython",
    "version": 3
   },
   "file_extension": ".py",
   "mimetype": "text/x-python",
   "name": "python",
   "nbconvert_exporter": "python",
   "pygments_lexer": "ipython3",
   "version": "3.9.7"
  }
 },
 "nbformat": 4,
 "nbformat_minor": 5
}
