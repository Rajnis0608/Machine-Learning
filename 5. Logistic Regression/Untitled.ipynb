{
 "cells": [
  {
   "cell_type": "code",
   "execution_count": 19,
   "id": "28286120",
   "metadata": {},
   "outputs": [],
   "source": [
    "from sklearn import datasets\n",
    "from sklearn import model_selection\n",
    "import numpy as np"
   ]
  },
  {
   "cell_type": "code",
   "execution_count": 20,
   "id": "c6f81558",
   "metadata": {},
   "outputs": [],
   "source": [
    "cancer_ds = datasets.load_breast_cancer()"
   ]
  },
  {
   "cell_type": "code",
   "execution_count": 21,
   "id": "b16f7908",
   "metadata": {},
   "outputs": [
    {
     "data": {
      "text/plain": [
       "(569, 30)"
      ]
     },
     "execution_count": 21,
     "metadata": {},
     "output_type": "execute_result"
    }
   ],
   "source": [
    "x = cancer_ds.data\n",
    "x.shape"
   ]
  },
  {
   "cell_type": "code",
   "execution_count": 22,
   "id": "1b240c2f",
   "metadata": {},
   "outputs": [
    {
     "data": {
      "text/plain": [
       "(569,)"
      ]
     },
     "execution_count": 22,
     "metadata": {},
     "output_type": "execute_result"
    }
   ],
   "source": [
    "y = cancer_ds.target\n",
    "y.shape"
   ]
  },
  {
   "cell_type": "code",
   "execution_count": 23,
   "id": "4a711054",
   "metadata": {},
   "outputs": [],
   "source": [
    "x_train,x_test,y_train,y_test = model_selection.train_test_split(x,y)"
   ]
  },
  {
   "cell_type": "code",
   "execution_count": 24,
   "id": "25e87ef1",
   "metadata": {},
   "outputs": [],
   "source": [
    "import math\n",
    "def sigmoid(z):\n",
    "    return 1/(1+math.exp(-z))"
   ]
  },
  {
   "cell_type": "code",
   "execution_count": 25,
   "id": "f346ce20",
   "metadata": {},
   "outputs": [],
   "source": [
    "def cost(x,y):\n",
    "    hx = sigmoid(x)\n",
    "    cst = -y*math.log(hx) - (1-y)*log(1-hx)\n",
    "    return cst"
   ]
  },
  {
   "cell_type": "code",
   "execution_count": 26,
   "id": "6bde14ab",
   "metadata": {},
   "outputs": [],
   "source": [
    "def predict(m,x):\n",
    "    if(m*x > 0):\n",
    "        return 1\n",
    "    else:\n",
    "        return 0"
   ]
  },
  {
   "cell_type": "code",
   "execution_count": 27,
   "id": "59341e9c",
   "metadata": {},
   "outputs": [],
   "source": [
    "def logistic_regression(x,y,learn_rate,m):\n",
    "    M = x.shape[0]\n",
    "    N = x.shape[1] + 1\n",
    "    new_m = np.zeros(N)\n",
    "    for i in range(M):\n",
    "        x = x[i]\n",
    "        x = np.append(x,1)\n",
    "        y = y[i]\n",
    "        for j in range(N):\n",
    "            new_m[j] = m[j] - \n",
    "    "
   ]
  },
  {
   "cell_type": "code",
   "execution_count": null,
   "id": "56c42591",
   "metadata": {},
   "outputs": [],
   "source": []
  }
 ],
 "metadata": {
  "kernelspec": {
   "display_name": "Python 3 (ipykernel)",
   "language": "python",
   "name": "python3"
  },
  "language_info": {
   "codemirror_mode": {
    "name": "ipython",
    "version": 3
   },
   "file_extension": ".py",
   "mimetype": "text/x-python",
   "name": "python",
   "nbconvert_exporter": "python",
   "pygments_lexer": "ipython3",
   "version": "3.9.7"
  }
 },
 "nbformat": 4,
 "nbformat_minor": 5
}
