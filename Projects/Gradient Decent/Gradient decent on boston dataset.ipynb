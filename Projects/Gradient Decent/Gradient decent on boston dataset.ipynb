{
 "cells": [
  {
   "cell_type": "code",
   "execution_count": 2,
   "id": "ea0ec095",
   "metadata": {},
   "outputs": [],
   "source": [
    "import numpy as np"
   ]
  },
  {
   "cell_type": "code",
   "execution_count": 13,
   "id": "da8bd2bb",
   "metadata": {},
   "outputs": [],
   "source": [
    "def step_gradient(points,learning_rate,m):\n",
    "    \n",
    "    M = points.shape[0]\n",
    "    N = points.shape[1]\n",
    "    m_slope = np.zeros(N)\n",
    "\n",
    "    for i in range(M):\n",
    "        x = points[i, 0:N-1]\n",
    "        x = np.append(x, 1)\n",
    "        y = points[i, N-1]\n",
    "        for j in range(N):\n",
    "            m_slope[j] += (-2/M) * (y - (m * x).sum()) * x[j]\n",
    "        m = m - (learning_rate * m_slope)\n",
    "\n",
    "    return m"
   ]
  },
  {
   "cell_type": "code",
   "execution_count": 14,
   "id": "f9f836a5",
   "metadata": {},
   "outputs": [],
   "source": [
    "def gd(points,learning_rate,num_iterations):\n",
    "    #Random value of m and c\n",
    "    M = points.shape[1]\n",
    "    m = np.zeros(M)\n",
    "    for i in range(num_iterations):\n",
    "        m  = step_gradient(points,learning_rate,m)\n",
    "        print(i,\" Cost : \",cost(points,m) )\n",
    "    return m\n"
   ]
  },
  {
   "cell_type": "code",
   "execution_count": 24,
   "id": "6e03133d",
   "metadata": {},
   "outputs": [],
   "source": [
    "def cost(points,m):\n",
    "    total_cost = 0\n",
    "    M = points.shape[0]\n",
    "    N = points.shape[1]\n",
    "    for i in range(M):\n",
    "        x = points[i,0:N-1]\n",
    "        x = np.append(x, 1)\n",
    "        y = points[i,N-1]\n",
    "        total_cost += (y - (m*x).sum())**2\n",
    "    \n",
    "    total_cost = (1/M)*total_cost\n",
    "    return total_cost"
   ]
  },
  {
   "cell_type": "code",
   "execution_count": 27,
   "id": "09131e05",
   "metadata": {},
   "outputs": [],
   "source": [
    "def run():\n",
    "    train_data =  np.loadtxt(\"Data\\\\train.csv\",delimiter=\",\")\n",
    "    learning_rate = 0.0001\n",
    "    num_iterations = 5\n",
    "    m = gd(train_data,learning_rate,num_iterations) \n",
    "    for i in range(0,len(m)-1):\n",
    "        print(\"m{} =\".format(i),m[i],end=\" \")\n",
    "    print(\"c =\",m[len(m)-1])\n",
    "    return m"
   ]
  },
  {
   "cell_type": "code",
   "execution_count": 28,
   "id": "5cbe267e",
   "metadata": {},
   "outputs": [
    {
     "name": "stdout",
     "output_type": "stream",
     "text": [
      "0  Cost :  547.5911779490283\n",
      "1  Cost :  503.2762033716411\n",
      "2  Cost :  464.29360355486904\n",
      "3  Cost :  429.4443916008439\n",
      "4  Cost :  397.9426981199033\n",
      "m0 = -0.38142823170973317 m1 = 0.383906775667495 m2 = -0.5505267239599192 m3 = 0.3127965639510407 m4 = -0.32609667538726084 m5 = 1.1445177562111086 m6 = -0.15741496353783202 m7 = 0.19497083018490818 m8 = -0.2538072708446077 m9 = -0.4358522124139397 m10 = -0.45526752423788763 m11 = 0.3615739652638143 m12 = -0.9528032124752296 c = 3.9647776395041006\n"
     ]
    }
   ],
   "source": [
    "run()"
   ]
  },
  {
   "cell_type": "code",
   "execution_count": null,
   "id": "64527e87",
   "metadata": {},
   "outputs": [],
   "source": [
    " test_data =  np.loadtxt(\"Data\\\\test.csv\",delimiter=\",\")"
   ]
  },
  {
   "cell_type": "code",
   "execution_count": null,
   "id": "14c461db",
   "metadata": {},
   "outputs": [],
   "source": [
    "def predict(x, m):\n",
    "    return (m[0:len(m)-1] * x).sum() + m[len(m)-1]"
   ]
  }
 ],
 "metadata": {
  "kernelspec": {
   "display_name": "Python 3 (ipykernel)",
   "language": "python",
   "name": "python3"
  },
  "language_info": {
   "codemirror_mode": {
    "name": "ipython",
    "version": 3
   },
   "file_extension": ".py",
   "mimetype": "text/x-python",
   "name": "python",
   "nbconvert_exporter": "python",
   "pygments_lexer": "ipython3",
   "version": "3.9.7"
  }
 },
 "nbformat": 4,
 "nbformat_minor": 5
}
