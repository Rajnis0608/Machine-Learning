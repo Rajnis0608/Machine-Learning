{
 "cells": [
  {
   "cell_type": "code",
   "execution_count": 1,
   "id": "3ecaf73e",
   "metadata": {},
   "outputs": [],
   "source": [
    "import numpy as np\n",
    "\n",
    "data = np.loadtxt('Data/data.csv',delimiter=',')\n",
    "x = data[:,0]\n",
    "y = data[:,1]\n",
    "\n",
    "#Split\n",
    "from sklearn import model_selection\n",
    "x_train,x_test,y_train,y_test = model_selection.train_test_split(x,y,test_size=0.3)"
   ]
  },
  {
   "cell_type": "code",
   "execution_count": 2,
   "id": "6e130335",
   "metadata": {},
   "outputs": [],
   "source": [
    "def fit(x,y):\n",
    "    num = (x*y).mean()-x.mean() * y.mean()\n",
    "    den = (x**2).mean() - x.mean()**2\n",
    "    m = num/den\n",
    "    c = y.mean() - m * x.mean()\n",
    "    return m,c"
   ]
  },
  {
   "cell_type": "code",
   "execution_count": 3,
   "id": "895e2ccd",
   "metadata": {},
   "outputs": [],
   "source": [
    "def predict(x, m, c):\n",
    "    return m * x + c"
   ]
  },
  {
   "cell_type": "code",
   "execution_count": 4,
   "id": "f71c148b",
   "metadata": {},
   "outputs": [],
   "source": [
    "def score(y_truth,y_pred):\n",
    "    u = ((y_truth - y_pred)**2).sum()\n",
    "    v = ((y_truth - y_truth.mean())**2).sum()\n",
    "    return 1 - u/v"
   ]
  },
  {
   "cell_type": "code",
   "execution_count": 5,
   "id": "d047246f",
   "metadata": {},
   "outputs": [],
   "source": [
    "def cost(x,y,m,c):\n",
    "    return ((y-(m*x+c))**2).mean()"
   ]
  },
  {
   "cell_type": "code",
   "execution_count": 6,
   "id": "08adecbc",
   "metadata": {},
   "outputs": [
    {
     "name": "stdout",
     "output_type": "stream",
     "text": [
      "Test Score :  0.6233216037127789\n",
      "train Score :  0.5852812441650141\n",
      "M: 1.3182996080357907  C: 8.427816405577914\n",
      "Cost on training data :  106.56201762910982\n"
     ]
    }
   ],
   "source": [
    "m, c = fit(x_train,y_train)\n",
    "\n",
    "#testing on test data\n",
    "y_test_pred = predict(x_test,m,c)\n",
    "print(\"Test Score : \" , score(y_test,y_test_pred))\n",
    "\n",
    "#testing on train data\n",
    "y_train_pred = predict(x_train,m,c)\n",
    "print(\"train Score : \" ,score(y_train,y_train_pred))\n",
    "print(\"M:\",m,\" C:\",c)\n",
    "print(\"Cost on training data : \",cost(x_train,y_train,m,c))"
   ]
  },
  {
   "cell_type": "code",
   "execution_count": null,
   "id": "0ac51107",
   "metadata": {},
   "outputs": [],
   "source": []
  }
 ],
 "metadata": {
  "kernelspec": {
   "display_name": "Python 3 (ipykernel)",
   "language": "python",
   "name": "python3"
  },
  "language_info": {
   "codemirror_mode": {
    "name": "ipython",
    "version": 3
   },
   "file_extension": ".py",
   "mimetype": "text/x-python",
   "name": "python",
   "nbconvert_exporter": "python",
   "pygments_lexer": "ipython3",
   "version": "3.9.7"
  }
 },
 "nbformat": 4,
 "nbformat_minor": 5
}
