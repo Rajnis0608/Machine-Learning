{
 "cells": [
  {
   "cell_type": "code",
   "execution_count": 31,
   "id": "d1ccb332",
   "metadata": {},
   "outputs": [],
   "source": [
    "from sklearn import datasets"
   ]
  },
  {
   "cell_type": "code",
   "execution_count": 32,
   "id": "613b35df",
   "metadata": {},
   "outputs": [
    {
     "data": {
      "text/plain": [
       "(506, 13)"
      ]
     },
     "execution_count": 32,
     "metadata": {},
     "output_type": "execute_result"
    }
   ],
   "source": [
    "boston = datasets.load_boston()\n",
    "X = boston.data \n",
    "Y = boston.target\n",
    "X.shape"
   ]
  },
  {
   "cell_type": "code",
   "execution_count": 40,
   "id": "374f49b4",
   "metadata": {},
   "outputs": [
    {
     "data": {
      "text/plain": [
       "(506, 26)"
      ]
     },
     "execution_count": 40,
     "metadata": {},
     "output_type": "execute_result"
    }
   ],
   "source": [
    "import pandas as pd\n",
    "boston_df = pd.DataFrame(X)\n",
    "boston_df.columns = boston.feature_names\n",
    "\n",
    "\n",
    "\n",
    "#Adding another column\n",
    "# boston_df[\"age_age\"] = boston_df.AGE**2\n",
    "# boston_df.describe()\n",
    "# X2 = boston_df.values\n",
    "# X2.shape\n",
    "\n",
    "\n",
    "for i in boston_df.columns:\n",
    "    str = (\"{}_{}\").format(i,i) \n",
    "    boston_df[str] = boston_df[i]**2\n",
    "\n",
    "X2 = boston_df.values\n",
    "X2.shape"
   ]
  },
  {
   "cell_type": "code",
   "execution_count": 41,
   "id": "a1c568b5",
   "metadata": {},
   "outputs": [],
   "source": [
    "#spliting data into train and test data\n",
    "from sklearn import model_selection\n",
    "X_train,X_test,Y_train,Y_test = model_selection.train_test_split(X,Y,random_state=0)\n",
    "X2_train,X2_test,Y2_train,Y2_test = model_selection.train_test_split(X2,Y,random_state=0)"
   ]
  },
  {
   "cell_type": "code",
   "execution_count": 42,
   "id": "a6ad745f",
   "metadata": {},
   "outputs": [],
   "source": [
    "#implemention algo\n",
    "from sklearn.linear_model import LinearRegression\n",
    "algo_1 = LinearRegression()\n",
    "algo_2 = LinearRegression()"
   ]
  },
  {
   "cell_type": "code",
   "execution_count": 43,
   "id": "7af5ee32",
   "metadata": {},
   "outputs": [
    {
     "data": {
      "text/plain": [
       "LinearRegression()"
      ]
     },
     "execution_count": 43,
     "metadata": {},
     "output_type": "execute_result"
    }
   ],
   "source": [
    "algo_1.fit(X_train,Y_train)\n",
    "algo_2.fit(X2_train,Y2_train)"
   ]
  },
  {
   "cell_type": "code",
   "execution_count": 44,
   "id": "d7f631b0",
   "metadata": {},
   "outputs": [
    {
     "name": "stdout",
     "output_type": "stream",
     "text": [
      "Train score :  0.7697699488741149\n",
      "Test score :  0.6354638433202129\n",
      "Train 2 score :  0.8596413794910498\n",
      "Test 2 score :  0.7200918269122947\n"
     ]
    }
   ],
   "source": [
    "#Getting predicted output for X_test\n",
    "Y_pred = algo_1.predict(X_test)\n",
    "Y2_pred = algo_2.predict(X2_test)\n",
    "\n",
    "#Algo analysis'\n",
    "train_score = algo_1.score(X_train,Y_train)\n",
    "test_score = algo_1.score(X_test,Y_test)\n",
    "print(\"Train score : \",train_score)\n",
    "print(\"Test score : \",test_score)\n",
    "\n",
    "train2_score = algo_2.score(X2_train,Y2_train)\n",
    "test2_score = algo_2.score(X2_test,Y2_test)\n",
    "print(\"Train 2 score : \",train2_score)\n",
    "print(\"Test 2 score : \",test2_score)"
   ]
  },
  {
   "cell_type": "code",
   "execution_count": null,
   "id": "138293c7",
   "metadata": {},
   "outputs": [],
   "source": []
  },
  {
   "cell_type": "code",
   "execution_count": null,
   "id": "9081e833",
   "metadata": {},
   "outputs": [],
   "source": []
  }
 ],
 "metadata": {
  "kernelspec": {
   "display_name": "Python 3 (ipykernel)",
   "language": "python",
   "name": "python3"
  },
  "language_info": {
   "codemirror_mode": {
    "name": "ipython",
    "version": 3
   },
   "file_extension": ".py",
   "mimetype": "text/x-python",
   "name": "python",
   "nbconvert_exporter": "python",
   "pygments_lexer": "ipython3",
   "version": "3.9.7"
  }
 },
 "nbformat": 4,
 "nbformat_minor": 5
}
